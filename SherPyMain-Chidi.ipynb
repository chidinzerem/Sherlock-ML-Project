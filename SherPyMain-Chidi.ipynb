{
 "cells": [
  {
   "cell_type": "code",
   "execution_count": 62,
   "id": "deadly-marble",
   "metadata": {},
   "outputs": [],
   "source": [
    "#library used\n",
    "from pyspark.ml.regression import GeneralizedLinearRegression\n",
    "from pyspark.ml.classification import LogisticRegression\n",
    "from pyspark.sql import SparkSession\n",
    "from pyspark.ml.feature import StringIndexer\n",
    "from pyspark.ml.feature import OneHotEncoder\n",
    "from pyspark.ml.feature import VectorAssembler\n",
    "from pyspark.ml.feature import StandardScaler\n",
    "from pyspark.ml import Pipeline\n",
    "import pandas as pd\n",
    "import numpy as np\n",
    "import sklearn\n",
    "import pandas as pd\n",
    "from pyspark.ml.linalg import Vectors\n",
    "from pyspark.ml.stat import Correlation\n",
    "from pyspark.sql import SparkSession\n",
    "from pyspark.ml import Pipeline\n",
    "from pyspark.ml.classification import GBTClassifier\n",
    "from pyspark.ml.feature import StringIndexer, VectorIndexer\n",
    "from pyspark.ml.evaluation import MulticlassClassificationEvaluator\n",
    "from pyspark.sql.functions import translate\n",
    "from pyspark.sql.types import IntegerType\n",
    "from pyspark.sql.functions import rand,when\n",
    "from pyspark.ml.feature import VectorAssembler\n",
    "from pyspark.ml import Pipeline\n",
    "from pyspark.ml.regression import GBTRegressor\n",
    "from pyspark.ml.feature import VectorIndexer\n",
    "from pyspark.ml.evaluation import RegressionEvaluator    \n",
    "import pyspark.sql.functions as func\n",
    "from pyspark.ml.classification import RandomForestClassifier\n",
    "from pyspark.ml.classification import GBTClassifier\n",
    "from pyspark.ml.classification import DecisionTreeClassifier\n",
    "import pyspark.ml.evaluation as ev\n",
    "\n",
    "    "
   ]
  },
  {
   "cell_type": "code",
   "execution_count": 4,
   "id": "amateur-ethernet",
   "metadata": {},
   "outputs": [
    {
     "data": {
      "text/plain": [
       "DataFrame[_c0: string, _c1: bigint, _c2: double, _c3: double, _c4: int, _c5: int, _c6: int, _c7: int, _c8: int, _c9: int, _c10: int, _c11: int, _c12: int, _c13: int, _c14: int, _c15: int, _c16: int, _c17: int, _c18: int, _c19: int, _c20: int, _c21: int, _c22: int, _c23: int, _c24: int, _c25: string, rand: string, _c25_index: double, _c25_encoded: vector, vectorized_features: vector, label: double, features: vector]"
      ]
     },
     "execution_count": 4,
     "metadata": {},
     "output_type": "execute_result"
    }
   ],
   "source": [
    "Pepe('T4smallsubset.csv')"
   ]
  },
  {
   "cell_type": "code",
   "execution_count": 3,
   "id": "settled-portable",
   "metadata": {},
   "outputs": [],
   "source": [
    "#functions to build pipeline\n",
    "def Pepe(D):\n",
    "\n",
    "    #reading in data\n",
    "    spark = SparkSession.builder.master('local[2]').config(\"spark.executor.memory\", \"1g\").config(\"spark.driver.memory\", \"1g\").appName('spark_sh_data').getOrCreate()\n",
    "    df = spark.read.options(header=None, nullValue='NULL', inferSchema=True).option('nullValue','null').csv(D)\n",
    "    #dealing with null values\n",
    "    newDf = df.withColumn('_c4', translate('_c4', 'NULL', '')).withColumn('_c5', translate('_c5', 'NULL', '')).withColumn('_c6', translate('_c6', 'NULL', '')).withColumn('_c7', translate('_c7', 'NULL', ''))\\\n",
    "        .withColumn('_c8', translate('_c8', 'NULL', ''))\n",
    "    newDf1 = newDf.withColumn('_c4', newDf[\"_c4\"].cast(IntegerType())).withColumn('_c5', newDf[\"_c5\"].cast(IntegerType())).withColumn('_c6', newDf[\"_c6\"].cast(IntegerType())).withColumn('_c7', newDf[\"_c7\"].cast(IntegerType()))\\\n",
    "        .withColumn('_c8', newDf[\"_c8\"].cast(IntegerType()))\n",
    "    \n",
    "    \n",
    "    data= newDf1.withColumn('rand', when(rand() > 0.5, 'yes').otherwise('no'))\n",
    "    \n",
    "    #string indexer\n",
    "    stringIndexer = StringIndexer().setInputCol(\"_c25\").setOutputCol(\"_c25_index\").setHandleInvalid(\"skip\")\n",
    "    _c25_index_model=stringIndexer.fit(data)\n",
    "    _c25_index_df=_c25_index_model.transform(data)\n",
    "    \n",
    "    #encoder\n",
    "    encoder = OneHotEncoder().setInputCols([\"_c25_index\"]).setOutputCols([\"_c25_encoded\"])\n",
    "    encoder_model=encoder.fit(_c25_index_df)\n",
    "    encoder_df=encoder_model.transform(_c25_index_df)\n",
    "\n",
    "    #assembler\n",
    "    assembler = VectorAssembler().setInputCols(['_c4','_c5','_c6','_c7','_c8','_c9','_c10','_c11','_c12','_c13','_c14','_c15','_c16','_c17','_c18','_c19','_c20','_c21','_c22','_c23','_c24'])\\\n",
    "                        .setOutputCol(\"vectorized_features\")\\\n",
    "                            .setHandleInvalid(\"skip\")\n",
    "    assembler_df = assembler.transform(encoder_df)\n",
    "    \n",
    "    #label indexer\n",
    "    label_indexer = StringIndexer().setInputCol(\"rand\").setOutputCol(\"label\")\n",
    "    label_indexer_model=label_indexer.fit(assembler_df)\n",
    "    label_indexer_df = label_indexer_model.transform(assembler_df)\n",
    "    \n",
    "    scaler = StandardScaler().setInputCol(\"vectorized_features\").setOutputCol(\"features\")\n",
    "    scaler_model=scaler.fit(label_indexer_df)\n",
    "    scaler_df = scaler_model.transform(label_indexer_df)\n",
    "    \n",
    "    #pipeline\n",
    "    pipeline_stages=Pipeline().setStages([stringIndexer,encoder,assembler,label_indexer,scaler])\n",
    "    pipeline_model=pipeline_stages.fit(data)\n",
    "    pipeline_df=pipeline_model.transform(data)\n",
    "    \n",
    "    return pipeline_df\n",
    "    "
   ]
  },
  {
   "cell_type": "code",
   "execution_count": 72,
   "id": "german-capture",
   "metadata": {},
   "outputs": [],
   "source": [
    "#log regression\n",
    "def SherLog(PepePipe):\n",
    "    #training 80/20\n",
    "    train, test = PepePipe.randomSplit([0.8,0.2], seed=56)\n",
    "    from pyspark.ml.classification import DecisionTreeClassifier\n",
    "    \n",
    "    evaluator = ev.BinaryClassificationEvaluator(rawPredictionCol='probability', labelCol='label')\n",
    "    \n",
    "    #fitting and transform\n",
    "    lr = LogisticRegression(featuresCol = 'features', labelCol = 'label', maxIter=5)\n",
    "    lrModel = lr.fit(train)\n",
    "    predictions = lrModel.transform(test)\n",
    "    \n",
    "    print(evaluator.evaluate(predictions, {evaluator.metricName: 'areaUnderROC'}))\n",
    "    #print(evaluator.evaluate(dt_pred, {evaluator.metricName: 'areaUnderPR'}))\n",
    "    \n",
    "    \n",
    "    #coefficient model\n",
    "    beta = np.sort(lrModel.coefficients)\n",
    "    plt.plot(beta)\n",
    "    plt.ylabel('Beta Coefficients')\n",
    "    plt.show()\n",
    "\n",
    "    #roc curve\n",
    "    trainingSummary = lrModel.summary\n",
    "    roc = trainingSummary.roc.toPandas()\n",
    "    plt.plot(roc['FPR'],roc['TPR'])\n",
    "    plt.ylabel('False Positive Rate')\n",
    "    plt.xlabel('True Positive Rate')\n",
    "    plt.title('ROC Curve')\n",
    "    plt.show()\n",
    "    print('Training set areaUnderROC: ' + str(trainingSummary.areaUnderROC))\n",
    "    \n",
    "    #precision \n",
    "    pr = trainingSummary.pr.toPandas()\n",
    "    plt.plot(pr['recall'],pr['precision'])\n",
    "    plt.ylabel('Precision')\n",
    "    plt.xlabel('Recall')\n",
    "    plt.show()\n",
    "    \n",
    "    \n",
    "    \n",
    "    \n",
    "    return predictions\n",
    "\n",
    "\n",
    "\n"
   ]
  },
  {
   "cell_type": "code",
   "execution_count": 73,
   "id": "developing-choir",
   "metadata": {},
   "outputs": [
    {
     "name": "stdout",
     "output_type": "stream",
     "text": [
      "0.48412561221549955\n"
     ]
    },
    {
     "data": {
      "image/png": "[encoded data removed]",
      "text/plain": [
       "<Figure size 432x288 with 1 Axes>"
      ]
     },
     "metadata": {
      "needs_background": "light"
     },
     "output_type": "display_data"
    },
    {
     "data": {
      "image/png": "[encoded data removed]",
      "text/plain": [
       "<Figure size 432x288 with 1 Axes>"
      ]
     },
     "metadata": {
      "needs_background": "light"
     },
     "output_type": "display_data"
    },
    {
     "name": "stdout",
     "output_type": "stream",
     "text": [
      "Training set areaUnderROC: 0.5157663139698456\n"
     ]
    },
    {
     "data": {
      "image/png": "[encoded data removed]",
      "text/plain": [
       "<Figure size 432x288 with 1 Axes>"
      ]
     },
     "metadata": {
      "needs_background": "light"
     },
     "output_type": "display_data"
    },
    {
     "data": {
      "text/plain": [
       "DataFrame[_c0: string, _c1: bigint, _c2: double, _c3: double, _c4: int, _c5: int, _c6: int, _c7: int, _c8: int, _c9: int, _c10: int, _c11: int, _c12: int, _c13: int, _c14: int, _c15: int, _c16: int, _c17: int, _c18: int, _c19: int, _c20: int, _c21: int, _c22: int, _c23: int, _c24: int, _c25: string, rand: string, _c25_index: double, _c25_encoded: vector, vectorized_features: vector, label: double, features: vector, rawPrediction: vector, probability: vector, prediction: double]"
      ]
     },
     "execution_count": 73,
     "metadata": {},
     "output_type": "execute_result"
    }
   ],
   "source": [
    "SherLog(Pepe('T4smallsubset.csv'))"
   ]
  },
  {
   "cell_type": "code",
   "execution_count": 102,
   "id": "extensive-arcade",
   "metadata": {},
   "outputs": [],
   "source": [
    "#Gradient Booster tree \n",
    "def MoriarTree(PepePipe):\n",
    "    #training 80/20\n",
    "    train, test = PepePipe.randomSplit([0.8, 0.2], seed=56)\n",
    "    evaluator = ev.BinaryClassificationEvaluator(rawPredictionCol='probability', labelCol='label')\n",
    "    #fitting and transform\n",
    "    gbt = GBTClassifier(maxIter=10)\n",
    "    gbtModel = gbt.fit(train)\n",
    "    gbt_pred = gbtModel.transform(test)\n",
    "\n",
    "    print(evaluator.evaluate(gbt_pred, {evaluator.metricName: 'areaUnderROC'}))\n",
    "    print(evaluator.evaluate(gbt_pred, {evaluator.metricName: 'areaUnderPR'}))\n",
    "    \n",
    "\n",
    "    return gbt_pred"
   ]
  },
  {
   "cell_type": "code",
   "execution_count": 103,
   "id": "hydraulic-digit",
   "metadata": {},
   "outputs": [
    {
     "name": "stdout",
     "output_type": "stream",
     "text": [
      "0.5016141367032747\n",
      "0.5145709235145796\n"
     ]
    },
    {
     "data": {
      "text/plain": [
       "DataFrame[_c0: string, _c1: bigint, _c2: double, _c3: double, _c4: int, _c5: int, _c6: int, _c7: int, _c8: int, _c9: int, _c10: int, _c11: int, _c12: int, _c13: int, _c14: int, _c15: int, _c16: int, _c17: int, _c18: int, _c19: int, _c20: int, _c21: int, _c22: int, _c23: int, _c24: int, _c25: string, rand: string, _c25_index: double, _c25_encoded: vector, vectorized_features: vector, label: double, features: vector, rawPrediction: vector, probability: vector, prediction: double]"
      ]
     },
     "execution_count": 103,
     "metadata": {},
     "output_type": "execute_result"
    }
   ],
   "source": [
    "MoriarTree(Pepe('T4smallsubset.csv'))"
   ]
  },
  {
   "cell_type": "code",
   "execution_count": 84,
   "id": "quality-mission",
   "metadata": {},
   "outputs": [],
   "source": [
    "def runforest(PepePipe):\n",
    "    #training 80/20\n",
    "    train, test = PepePipe.randomSplit([0.8,0.2], seed=56)\n",
    "    evaluator = ev.BinaryClassificationEvaluator(rawPredictionCol='probability', labelCol='label')\n",
    "    \n",
    "    #fitting and transform\n",
    "    rf = RandomForestClassifier(featuresCol = 'features', labelCol = 'label')\n",
    "    rfModel = rf.fit(train)\n",
    "    rf_pred = rfModel.transform(test)\n",
    "    \n",
    "    print(evaluator.evaluate(rf_pred, {evaluator.metricName: 'areaUnderROC'}))\n",
    "    print(evaluator.evaluate(rf_pred, {evaluator.metricName: 'areaUnderPR'}))\n",
    "    \n",
    "   \n",
    "\n",
    "    \n",
    "    trainingSummary = rfModel.summary\n",
    "    roc = trainingSummary.roc.toPandas()\n",
    "    plt.plot(roc['FPR'],roc['TPR'])\n",
    "    plt.ylabel('False Positive Rate')\n",
    "    plt.xlabel('True Positive Rate')\n",
    "    plt.title('ROC Curve')\n",
    "    plt.show()\n",
    "    print('Training set areaUnderROC: ' + str(trainingSummary.areaUnderROC))\n",
    "    \n",
    "    pr = trainingSummary.pr.toPandas()\n",
    "    plt.plot(pr['recall'],pr['precision'])\n",
    "    plt.ylabel('Precision')\n",
    "    plt.xlabel('Recall')\n",
    "    plt.show()\n",
    "    \n",
    "    return rf_pred"
   ]
  },
  {
   "cell_type": "code",
   "execution_count": 85,
   "id": "brave-robertson",
   "metadata": {},
   "outputs": [
    {
     "name": "stdout",
     "output_type": "stream",
     "text": [
      "0.49276272927733805\n",
      "0.49134394879595006\n"
     ]
    },
    {
     "data": {
      "image/png": "[encoded data removed]",
      "text/plain": [
       "<Figure size 432x288 with 1 Axes>"
      ]
     },
     "metadata": {
      "needs_background": "light"
     },
     "output_type": "display_data"
    },
    {
     "name": "stdout",
     "output_type": "stream",
     "text": [
      "Training set areaUnderROC: 0.6016195467159198\n"
     ]
    },
    {
     "data": {
      "image/png": "[encoded data removed]",
      "text/plain": [
       "<Figure size 432x288 with 1 Axes>"
      ]
     },
     "metadata": {
      "needs_background": "light"
     },
     "output_type": "display_data"
    },
    {
     "data": {
      "text/plain": [
       "DataFrame[_c0: string, _c1: bigint, _c2: double, _c3: double, _c4: int, _c5: int, _c6: int, _c7: int, _c8: int, _c9: int, _c10: int, _c11: int, _c12: int, _c13: int, _c14: int, _c15: int, _c16: int, _c17: int, _c18: int, _c19: int, _c20: int, _c21: int, _c22: int, _c23: int, _c24: int, _c25: string, rand: string, _c25_index: double, _c25_encoded: vector, vectorized_features: vector, label: double, features: vector, rawPrediction: vector, probability: vector, prediction: double]"
      ]
     },
     "execution_count": 85,
     "metadata": {},
     "output_type": "execute_result"
    }
   ],
   "source": [
    "runforest(Pepe('T4smallsubset.csv'))"
   ]
  },
  {
   "cell_type": "code",
   "execution_count": 100,
   "id": "minus-confirmation",
   "metadata": {},
   "outputs": [],
   "source": [
    "def siontree(PepePipe):\n",
    "    # split\n",
    "    train, test = PepePipe.randomSplit([0.8,0.2], seed=56)\n",
    "    evaluator = ev.BinaryClassificationEvaluator(rawPredictionCol='probability', labelCol='label')\n",
    "    #fitting and transform\n",
    "    dt = DecisionTreeClassifier(featuresCol = 'features', labelCol = 'label', maxDepth = 3)\n",
    "    dtmodel = dt.fit(train)\n",
    "    dt_pred = dtmodel.transform(test)\n",
    "    \n",
    "    print(evaluator.evaluate(dt_pred, {evaluator.metricName: 'areaUnderROC'}))\n",
    "    print(evaluator.evaluate(dt_pred, {evaluator.metricName: 'areaUnderPR'}))\n",
    "\n",
    "    \n",
    "    return dt_pred\n"
   ]
  },
  {
   "cell_type": "code",
   "execution_count": 101,
   "id": "stunning-headline",
   "metadata": {},
   "outputs": [
    {
     "name": "stdout",
     "output_type": "stream",
     "text": [
      "0.47739741992726475\n",
      "0.4096869246784314\n"
     ]
    },
    {
     "data": {
      "text/plain": [
       "DataFrame[_c0: string, _c1: bigint, _c2: double, _c3: double, _c4: int, _c5: int, _c6: int, _c7: int, _c8: int, _c9: int, _c10: int, _c11: int, _c12: int, _c13: int, _c14: int, _c15: int, _c16: int, _c17: int, _c18: int, _c19: int, _c20: int, _c21: int, _c22: int, _c23: int, _c24: int, _c25: string, rand: string, _c25_index: double, _c25_encoded: vector, vectorized_features: vector, label: double, features: vector, rawPrediction: vector, probability: vector, prediction: double]"
      ]
     },
     "execution_count": 101,
     "metadata": {},
     "output_type": "execute_result"
    }
   ],
   "source": [
    "siontree(Pepe('T4smallsubset.csv'))"
   ]
  },
  {
   "cell_type": "code",
   "execution_count": null,
   "id": "organic-headquarters",
   "metadata": {},
   "outputs": [],
   "source": []
  },
  {
   "cell_type": "code",
   "execution_count": null,
   "id": "annoying-somalia",
   "metadata": {},
   "outputs": [],
   "source": [
    "import argparse\n",
    "def main():\n",
    "    #flags\n",
    "    # Process command line arguments\n",
    "    parser = argparse.ArgumentParser()\n",
    "    parser.add_argument('--inputfile', type=str, required=True,\n",
    "                      help=\"The file with the features and labels.\")\n",
    "    parser.add_argument('--split', type=int, required=False,\n",
    "                      help=\"The train and test split of data.\")\n",
    "\n",
    "\n",
    "    \n",
    "    FLAGS = parser.parse_args()\n",
    "    #Open a file with the extracted features\n",
    "    with open(FLAGS.inputfile, \"r\") as infile:\n",
    "         data = np.loadtxt(infile, delimiter=\",\")\n",
    "\n",
    "\n",
    "main()"
   ]
  },
  {
   "cell_type": "code",
   "execution_count": 110,
   "id": "korean-humidity",
   "metadata": {},
   "outputs": [],
   "source": [
    "import unittest\n",
    "#import SherPyMain\n",
    "\n",
    "#unit test\n",
    "class PySparkTest(unittest.TestCase):\n",
    "    \n",
    "    def test_sherlock(self):\n",
    "        result = SherPyMain.SherLock(Pepe('T4smallsubset.csv'))\n",
    "        self.assertEqual(result, (0<result<1))\n",
    "        \n",
    "    def test_MoriarTree(self):\n",
    "        result = SherPyMain.MoriarTree(Pepe('T4smallsubset.csv'))\n",
    "        self.assertEqual(result, 0<result<1)\n",
    "    \n",
    "    def test_runforest(self):\n",
    "        result = SherPyMain.runforest(Pepe('T4smallsubset.csv'))\n",
    "        self.assertEqual(result, 0.5047279144497712)\n",
    "        \n",
    "    def test_siontree(self):\n",
    "        result = SherPyMain.runforest(Pepe('T4smallsubset.csv'))\n",
    "        self.assertEqual(result, 0.49722796337354225)\n",
    "    \n",
    "#if __name__ = '__main__':\n",
    "   #unittest.main()"
   ]
  },
  {
   "cell_type": "code",
   "execution_count": null,
   "id": "weighted-whale",
   "metadata": {},
   "outputs": [],
   "source": []
  },
  {
   "cell_type": "code",
   "execution_count": null,
   "id": "ready-immunology",
   "metadata": {},
   "outputs": [],
   "source": []
  }
 ],
 "metadata": {
  "kernelspec": {
   "display_name": "Python 3",
   "language": "python",
   "name": "python3"
  },
  "language_info": {
   "codemirror_mode": {
    "name": "ipython",
    "version": 3
   },
   "file_extension": ".py",
   "mimetype": "text/x-python",
   "name": "python",
   "nbconvert_exporter": "python",
   "pygments_lexer": "ipython3",
   "version": "3.8.8"
  }
 },
 "nbformat": 4,
 "nbformat_minor": 5
}
